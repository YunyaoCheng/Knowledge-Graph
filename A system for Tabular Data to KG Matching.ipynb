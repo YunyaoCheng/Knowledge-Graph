{
 "cells": [
  {
   "cell_type": "code",
   "execution_count": 1,
   "id": "eb9f30c5",
   "metadata": {},
   "outputs": [],
   "source": [
    "# Lexical similarity libraries\n",
    "import Levenshtein as lev \n",
    "from isub import isub\n",
    "# Look-ups\n",
    "from lookup import DBpediaLookup, WikidataAPI, GoogleKGLookup\n",
    "from endpoints import DBpediaEndpoint, WikidataEndpoint\n",
    "# Ontology processing\n",
    "from owlready2 import *\n",
    "#Shoudl be imported after owlready\n",
    "from rdflib import Graph\n",
    "import pandas as pd"
   ]
  },
  {
   "cell_type": "code",
   "execution_count": 13,
   "id": "b219d764",
   "metadata": {},
   "outputs": [],
   "source": [
    "name = '0S0R2SDS'\n",
    "#name = 'CWI64CIY'\n",
    "#name = 'E9VIFTTD'\n",
    "#name = 'U6HC36KO'\n",
    "#name = 'YV37DIA5'\n",
    "data = pd.read_csv(\"./sem-tab-evaluator/tables/\"+name+\".csv\")\n",
    "ans = []\n",
    "\n",
    "cols = data.columns.values.tolist()\n",
    "index_col = 0 \n",
    "for col in cols:\n",
    "    index_row = 1\n",
    "    for query in data[col]:\n",
    "\n",
    "        #Max entities to be returned\n",
    "        limit=1\n",
    "\n",
    "        dbpedia = DBpediaLookup()\n",
    "        entities = dbpedia.getKGEntities(query, limit)\n",
    "        if len(entities) > 0:\n",
    "            ans.append([name, str(index_row), str(index_col), entities[0].ident])\n",
    "        index_row += 1\n",
    "    index_col += 1"
   ]
  },
  {
   "cell_type": "code",
   "execution_count": 14,
   "id": "975695a6",
   "metadata": {},
   "outputs": [],
   "source": [
    "my_data = pd.DataFrame(ans)\n",
    "my_data.to_csv(\"./sem-tab-evaluator/\"+name+\"_cea_system.csv\")"
   ]
  }
 ],
 "metadata": {
  "kernelspec": {
   "display_name": "Python 3",
   "language": "python",
   "name": "python3"
  },
  "language_info": {
   "codemirror_mode": {
    "name": "ipython",
    "version": 3
   },
   "file_extension": ".py",
   "mimetype": "text/x-python",
   "name": "python",
   "nbconvert_exporter": "python",
   "pygments_lexer": "ipython3",
   "version": "3.8.8"
  }
 },
 "nbformat": 4,
 "nbformat_minor": 5
}
